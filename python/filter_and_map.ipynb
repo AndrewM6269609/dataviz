{
 "cells": [
  {
   "cell_type": "markdown",
   "metadata": {},
   "source": [
    "# Python filter() and map()"
   ]
  },
  {
   "cell_type": "code",
   "execution_count": null,
   "metadata": {},
   "outputs": [],
   "source": [
    "# Great description of filter() and map() at:\n",
    "#   https://www.geeksforgeeks.org/python-map-function/\n",
    "#   https://www.geeksforgeeks.org/filter-in-python/\n",
    "#"
   ]
  },
  {
   "cell_type": "code",
   "execution_count": null,
   "metadata": {},
   "outputs": [],
   "source": [
    "# \"The filter() method filters the given sequence with the help of a function that\n",
    "#   tests each element in the sequence to be true or not.\"\n",
    "# The \"map() function returns a map object(which is an iterator) of the results after \n",
    "#   applying the given function to each item of a given iterable (list, tuple etc.)\"\n",
    "#\n",
    "# Both return a filter/map object that you will have to convert to a list() or another\n",
    "# iterable so you can use it."
   ]
  },
  {
   "cell_type": "markdown",
   "metadata": {},
   "source": [
    "## filter()"
   ]
  },
  {
   "cell_type": "code",
   "execution_count": null,
   "metadata": {},
   "outputs": [],
   "source": [
    "# See the description above for filter(). The \"function\" is usually a lambda,\n",
    "# but can be a function.\n",
    "# # Use filter() with a lambda\n",
    "#return the even numbers of the list\n",
    "# Note, the lamba returns a True or False, and the list element gets appended to\n",
    "# the result list only if True\n",
    "# Try replacing \"x % 2 != 0\" with \"x + 2\" and the result will be all elements\n",
    "# in my_list because returning a numbber results in a True. Tricky!\n",
    "my_list = [0, 1, 2, 3, 5, 8, 13] \n",
    "result = filter(lambda x: x % 2 != 0, my_list) \n",
    "# Need to convert the result to a list so we can use it as a list.\n",
    "list(result)"
   ]
  },
  {
   "cell_type": "code",
   "execution_count": null,
   "metadata": {},
   "outputs": [],
   "source": [
    "# But, we can use a function just as easily as a lambda.\n",
    "def is_even(num):\n",
    "    if num % 2 == 0:\n",
    "        return True\n",
    "    return False\n",
    "#return the even numbers of the list\n",
    "my_list = [0, 1, 2, 3, 5, 8, 13] \n",
    "result = filter(is_even, my_list) \n",
    "list(result)"
   ]
  },
  {
   "cell_type": "markdown",
   "metadata": {},
   "source": [
    "## map()"
   ]
  },
  {
   "cell_type": "code",
   "execution_count": null,
   "metadata": {},
   "outputs": [],
   "source": [
    "# See the description above for map(). \n",
    "# The map() function can perform a calculation in the lambda and append the\n",
    "# result to the list. Compare this to a filter() which only appends as the \n",
    "# result to True or False\n",
    "# This one produces the same result as the filter example above:\n",
    "my_list = [0, 1, 2, 3, 5, 8, 13] \n",
    "result = map(lambda x: x % 2 != 0, my_list) \n",
    "# Need to convert the result to a list so we can use it as a list.\n",
    "list(result)"
   ]
  },
  {
   "cell_type": "code",
   "execution_count": null,
   "metadata": {},
   "outputs": [],
   "source": [
    "# Using map(), multiply each element of the list by 2:\n",
    "my_list = [0, 1, 2, 3, 5, 8, 13] \n",
    "result = map(lambda x: x * 2, my_list) \n",
    "# Need to convert the result to a list so we can use it as a list.\n",
    "list(result)"
   ]
  },
  {
   "cell_type": "code",
   "execution_count": null,
   "metadata": {},
   "outputs": [],
   "source": []
  }
 ],
 "metadata": {
  "kernelspec": {
   "display_name": "PythonData",
   "language": "python",
   "name": "pythondata"
  },
  "language_info": {
   "codemirror_mode": {
    "name": "ipython",
    "version": 3
   },
   "file_extension": ".py",
   "mimetype": "text/x-python",
   "name": "python",
   "nbconvert_exporter": "python",
   "pygments_lexer": "ipython3",
   "version": "3.7.7"
  }
 },
 "nbformat": 4,
 "nbformat_minor": 4
}
