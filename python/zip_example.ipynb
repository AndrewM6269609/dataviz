{
 "cells": [
  {
   "cell_type": "markdown",
   "metadata": {},
   "source": [
    "# Python zip()"
   ]
  },
  {
   "cell_type": "code",
   "execution_count": null,
   "metadata": {},
   "outputs": [],
   "source": [
    "# zip() is used to combine 2 or more lists into one list of tuples"
   ]
  },
  {
   "cell_type": "code",
   "execution_count": null,
   "metadata": {},
   "outputs": [],
   "source": [
    "# Combine 2 lists with zip\n",
    "list1 = [0,1,2,3]\n",
    "list2 = [4,5,6,7]\n",
    "my_list = zip(list1, list2)\n",
    "list(my_list)"
   ]
  },
  {
   "cell_type": "code",
   "execution_count": null,
   "metadata": {},
   "outputs": [],
   "source": [
    "# Combine 3 lists with zip\n",
    "list1 = [0,1,2,3]\n",
    "list2 = [4,5,6,7]\n",
    "list3 = [8,9,10,11]\n",
    "my_list = zip(list1, list2, list3)\n",
    "list(my_list)"
   ]
  },
  {
   "cell_type": "code",
   "execution_count": null,
   "metadata": {},
   "outputs": [],
   "source": [
    "# Combine 3 lists with zip, but the lists are not the same size\n",
    "list1 = [0,1,2,3]\n",
    "list2 = [4,5,6,7]\n",
    "list3 = [8,9,10] # This list has only 3 elements\n",
    "my_list = zip(list1, list2, list3)\n",
    "list(my_list)"
   ]
  },
  {
   "cell_type": "code",
   "execution_count": null,
   "metadata": {},
   "outputs": [],
   "source": [
    "# Note this is a list of tuples, which are like lists but are immutable (can't change them)."
   ]
  },
  {
   "cell_type": "code",
   "execution_count": null,
   "metadata": {},
   "outputs": [],
   "source": [
    "# Use np.random.uniform and zip to create a list of random coordinates\n",
    "# Note you have to use np.random.uniform, not random.uniform, because\n",
    "# only np.random.uniform has the size argument.\n",
    "import random\n",
    "import numpy as np\n",
    "coords_zip = zip(np.random.uniform(-90, 90, size=3) ,np.random.uniform(-180, 180, size=3))\n",
    "coords_list = list(coords_zip)\n",
    "coords_list"
   ]
  },
  {
   "cell_type": "code",
   "execution_count": null,
   "metadata": {},
   "outputs": [],
   "source": []
  }
 ],
 "metadata": {
  "kernelspec": {
   "display_name": "PythonData",
   "language": "python",
   "name": "pythondata"
  },
  "language_info": {
   "codemirror_mode": {
    "name": "ipython",
    "version": 3
   },
   "file_extension": ".py",
   "mimetype": "text/x-python",
   "name": "python",
   "nbconvert_exporter": "python",
   "pygments_lexer": "ipython3",
   "version": "3.7.7"
  }
 },
 "nbformat": 4,
 "nbformat_minor": 4
}
