{
 "cells": [
  {
   "cell_type": "markdown",
   "metadata": {},
   "source": [
    "# Datetime Overview\n",
    "\n",
    "This is what you use to deal with time and dates\n",
    "\n",
    "* https://docs.python.org/3.6/library/datetime.html\n",
    "* https://docs.python.org/3.6/library/datetime.html#strftime-and-strptime-behavior"
   ]
  },
  {
   "cell_type": "code",
   "execution_count": null,
   "metadata": {},
   "outputs": [],
   "source": [
    "import datetime as dt"
   ]
  },
  {
   "cell_type": "code",
   "execution_count": null,
   "metadata": {},
   "outputs": [],
   "source": [
    "# Get the current datetime\n",
    "datetime_now = dt.datetime.now()\n",
    "print(datetime_now)"
   ]
  },
  {
   "cell_type": "code",
   "execution_count": null,
   "metadata": {},
   "outputs": [],
   "source": [
    "# Get the current Date\n",
    "date_now = dt.date.today()\n",
    "print(date_now)"
   ]
  },
  {
   "cell_type": "code",
   "execution_count": null,
   "metadata": {},
   "outputs": [],
   "source": [
    "#Getthe year\n",
    "datetime_now.year"
   ]
  },
  {
   "cell_type": "code",
   "execution_count": null,
   "metadata": {},
   "outputs": [],
   "source": [
    "# Get the month\n",
    "datetime_now.month"
   ]
  },
  {
   "cell_type": "code",
   "execution_count": null,
   "metadata": {},
   "outputs": [],
   "source": [
    "# Create another date from earlier in the year\n",
    "old_datetime = dt.datetime(2020, 2, 27, 10, 30, 0)\n",
    "old_datetime"
   ]
  },
  {
   "cell_type": "code",
   "execution_count": null,
   "metadata": {},
   "outputs": [],
   "source": [
    "# Get the year\n",
    "old_datetime.year"
   ]
  },
  {
   "cell_type": "code",
   "execution_count": null,
   "metadata": {},
   "outputs": [],
   "source": [
    "# Get the month\n",
    "old_datetime.month"
   ]
  },
  {
   "cell_type": "markdown",
   "metadata": {},
   "source": [
    "## datetime.date"
   ]
  },
  {
   "cell_type": "code",
   "execution_count": null,
   "metadata": {},
   "outputs": [],
   "source": [
    "date_now = dt.date(2020, 1, 1)\n",
    "date_now"
   ]
  },
  {
   "cell_type": "code",
   "execution_count": null,
   "metadata": {},
   "outputs": [],
   "source": [
    "date_now.year"
   ]
  },
  {
   "cell_type": "code",
   "execution_count": null,
   "metadata": {},
   "outputs": [],
   "source": [
    "# Get a date from a timestamp\n",
    "date_from_timestamp = dt.date.fromtimestamp(1328244364)\n",
    "print(\"Date =\", date_from_timestamp)"
   ]
  },
  {
   "cell_type": "code",
   "execution_count": null,
   "metadata": {},
   "outputs": [],
   "source": [
    "print(\"Current year:\", date_from_timestamp.year)\n",
    "print(\"Current month:\", date_from_timestamp.month)\n",
    "print(\"Current day:\", date_from_timestamp.day)"
   ]
  },
  {
   "cell_type": "markdown",
   "metadata": {},
   "source": [
    "## datetime.time"
   ]
  },
  {
   "cell_type": "code",
   "execution_count": null,
   "metadata": {},
   "outputs": [],
   "source": [
    "a_time = dt.time(12, 40, 5, 3)\n",
    "print(\"Current hour:\", a_time.hour)\n",
    "print(\"Current minute:\", a_time.minute)\n",
    "print(\"Current second:\", a_time.second)\n",
    "print(\"Current microsecond:\", a_time.microsecond)"
   ]
  },
  {
   "cell_type": "markdown",
   "metadata": {},
   "source": [
    "# strftime()\n",
    "Formats a datetime to a string"
   ]
  },
  {
   "cell_type": "code",
   "execution_count": null,
   "metadata": {},
   "outputs": [],
   "source": [
    "# From a datetime, create a string with a custom format\n",
    "# Note the format specifiers are defined at:\n",
    "#  https://docs.python.org/3.6/library/datetime.html#strftime-and-strptime-behavior\n",
    "timestamp = 1571678675\n",
    "datetime_then = dt.datetime.utcfromtimestamp(timestamp)\n",
    "datetime_string = datetime_then.strftime('%Y-%m-%d time is: %H:%M:%S')\n",
    "datetime_string"
   ]
  },
  {
   "cell_type": "code",
   "execution_count": null,
   "metadata": {},
   "outputs": [],
   "source": [
    "# Change the year formatting to a 2 digit representation.\n",
    "# Notice the lower case 'y'\n",
    "datetime_string = datetime_then.strftime('%y-%m-%d %H:%M:%S')\n",
    "datetime_string"
   ]
  },
  {
   "cell_type": "markdown",
   "metadata": {},
   "source": [
    "# strptime()\n",
    "Convert a string to a datetime. The inverse of strftime()"
   ]
  },
  {
   "cell_type": "code",
   "execution_count": null,
   "metadata": {},
   "outputs": [],
   "source": [
    "our_date_string = '19-10-21 17:24:35'\n",
    "our_datetime = dt.datetime.strptime(our_date_string, '%y-%m-%d %H:%M:%S')\n",
    "print(our_datetime)"
   ]
  },
  {
   "cell_type": "code",
   "execution_count": null,
   "metadata": {},
   "outputs": [],
   "source": [
    "our_datetime.year"
   ]
  },
  {
   "cell_type": "code",
   "execution_count": null,
   "metadata": {},
   "outputs": [],
   "source": [
    "our_datetime.second"
   ]
  },
  {
   "cell_type": "code",
   "execution_count": null,
   "metadata": {},
   "outputs": [],
   "source": []
  }
 ],
 "metadata": {
  "kernelspec": {
   "display_name": "PythonData",
   "language": "python",
   "name": "pythondata"
  },
  "language_info": {
   "codemirror_mode": {
    "name": "ipython",
    "version": 3
   },
   "file_extension": ".py",
   "mimetype": "text/x-python",
   "name": "python",
   "nbconvert_exporter": "python",
   "pygments_lexer": "ipython3",
   "version": "3.7.7"
  }
 },
 "nbformat": 4,
 "nbformat_minor": 4
}
