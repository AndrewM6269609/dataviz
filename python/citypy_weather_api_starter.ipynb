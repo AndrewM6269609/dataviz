{
 "cells": [
  {
   "cell_type": "markdown",
   "metadata": {},
   "source": [
    "# Citypy introduction "
   ]
  },
  {
   "cell_type": "code",
   "execution_count": null,
   "metadata": {},
   "outputs": [],
   "source": [
    "# You need to \"pip install citipy\" and then make sure you can import\n",
    "from citipy import citipy\n",
    "import random\n",
    "import requests\n",
    "import numpy as np"
   ]
  },
  {
   "cell_type": "code",
   "execution_count": null,
   "metadata": {},
   "outputs": [],
   "source": [
    "# Create a list of coordinates. See this list comprehension method\n",
    "# for creating them. \n",
    "coordinates = [[random.uniform(-90, 90) ,random.uniform(-180, 180)] for x in range(3)]\n",
    "coordinates"
   ]
  },
  {
   "cell_type": "code",
   "execution_count": null,
   "metadata": {},
   "outputs": [],
   "source": [
    "#lats = np.random.uniform(-90,90, size=5)\n",
    "#longs = np.random.uniform(-180,180, size=5)\n",
    "#coordinates = zip(lats, longs)\n",
    "#list(coordinates)"
   ]
  },
  {
   "cell_type": "code",
   "execution_count": null,
   "metadata": {},
   "outputs": [],
   "source": [
    "# Loop through the coordinates and find the nearest city\n",
    "for coord in coordinates:\n",
    "    print(f\"{citipy.nearest_city(coord[0], coord[1]).city_name},{citipy.nearest_city(coord[0], coord[1]).country_code}\")"
   ]
  },
  {
   "cell_type": "code",
   "execution_count": null,
   "metadata": {},
   "outputs": [],
   "source": [
    "#Module 6.2.2 explains how to get the api key and\n",
    "# create config.py with the api key defined in it.\n",
    "# I named mine weatherconfig.py.\n",
    "# Remember to create a py file, not an ipynb file.\n",
    "from weather_config import weather_api_key"
   ]
  },
  {
   "cell_type": "code",
   "execution_count": null,
   "metadata": {},
   "outputs": [],
   "source": [
    "# Current weather URL for the cities\n",
    "# See https://openweathermap.org/current for documentation\n",
    "for coord in coordinates:\n",
    "    city_name_code = f\"{citipy.nearest_city(coord[0], coord[1]).city_name},{citipy.nearest_city(coord[0], coord[1]).country_code}\"\n",
    "    url = f\"http://api.openweathermap.org/data/2.5/weather?q={city_name_code}&units=Imperial&appid={weather_api_key}\"\n",
    "    #print(url)\n",
    "    result = requests.get(url)\n",
    "    print(result.json())\n",
    "    if result.json().get(\"cod\") == 200:\n",
    "        weather_data = result.json()\n",
    "        temperature = weather_data[\"main\"][\"temp\"]\n",
    "        print(f\"Temperature in {city_name_code} is {temperature} degrees farenheit\")\n",
    "    else:\n",
    "        print(f\"Failed to get the weather for {city_name_code}\")"
   ]
  },
  {
   "cell_type": "code",
   "execution_count": null,
   "metadata": {},
   "outputs": [],
   "source": []
  }
 ],
 "metadata": {
  "kernelspec": {
   "display_name": "PythonData",
   "language": "python",
   "name": "pythondata"
  },
  "language_info": {
   "codemirror_mode": {
    "name": "ipython",
    "version": 3
   },
   "file_extension": ".py",
   "mimetype": "text/x-python",
   "name": "python",
   "nbconvert_exporter": "python",
   "pygments_lexer": "ipython3",
   "version": "3.7.7"
  }
 },
 "nbformat": 4,
 "nbformat_minor": 4
}
