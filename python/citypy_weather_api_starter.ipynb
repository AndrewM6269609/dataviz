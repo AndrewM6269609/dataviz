{
 "cells": [
  {
   "cell_type": "markdown",
   "metadata": {},
   "source": [
    "# Citypy introduction "
   ]
  },
  {
   "cell_type": "code",
   "execution_count": 88,
   "metadata": {},
   "outputs": [],
   "source": [
    "# You need to \"pip install citipy\" and then make sure you can import\n",
    "from citipy import citipy\n",
    "import random\n",
    "import requests"
   ]
  },
  {
   "cell_type": "code",
   "execution_count": 89,
   "metadata": {},
   "outputs": [
    {
     "data": {
      "text/plain": [
       "[[-38.46205340035232, 164.1701344299285],\n",
       " [-80.6653474776954, 20.725378447257413],\n",
       " [43.590770641398706, 171.29711724676525]]"
      ]
     },
     "execution_count": 89,
     "metadata": {},
     "output_type": "execute_result"
    }
   ],
   "source": [
    "# Create a list of coordinates. See this list comprehension method\n",
    "# for creating them. \n",
    "coordinates = [[random.uniform(-90, 90) ,random.uniform(-180, 180)] for x in range(3)]\n",
    "coordinates"
   ]
  },
  {
   "cell_type": "code",
   "execution_count": 90,
   "metadata": {},
   "outputs": [
    {
     "name": "stdout",
     "output_type": "stream",
     "text": [
      "te anau,nz\n",
      "bredasdorp,za\n",
      "nikolskoye,ru\n"
     ]
    }
   ],
   "source": [
    "# Loop through the coordinates and find the nearest city\n",
    "for coord in coordinates:\n",
    "    print(f\"{citipy.nearest_city(coord[0], coord[1]).city_name},{citipy.nearest_city(coord[0], coord[1]).country_code}\")"
   ]
  },
  {
   "cell_type": "code",
   "execution_count": 91,
   "metadata": {},
   "outputs": [],
   "source": [
    "#Module 6.2.2 explains how to get the api key and\n",
    "# create config.py with the api key defined in it.\n",
    "# I named mine weatherconfig.py.\n",
    "# Remember to create a py file, not an ipynb file.\n",
    "from weather_config import weather_api_key"
   ]
  },
  {
   "cell_type": "code",
   "execution_count": 92,
   "metadata": {},
   "outputs": [
    {
     "name": "stdout",
     "output_type": "stream",
     "text": [
      "Temperature in te anau,nz is 37.42 degrees farenheit\n",
      "Temperature in bredasdorp,za is 60.8 degrees farenheit\n",
      "Temperature in nikolskoye,ru is 36.09 degrees farenheit\n"
     ]
    }
   ],
   "source": [
    "# Current weather URL for the cities\n",
    "# See https://openweathermap.org/current for documentation\n",
    "for coord in coordinates:\n",
    "    city_name_code = f\"{citipy.nearest_city(coord[0], coord[1]).city_name},{citipy.nearest_city(coord[0], coord[1]).country_code}\"\n",
    "    url = f\"http://api.openweathermap.org/data/2.5/weather?q={city_name_code}&units=Imperial&appid={weather_api_key}\"\n",
    "    #print(url)\n",
    "    result = requests.get(url)\n",
    "    #print(result.json())\n",
    "    if result.json().get(\"cod\") == 200:\n",
    "        weather_data = result.json()\n",
    "        temperature = weather_data[\"main\"][\"temp\"]\n",
    "        print(f\"Temperature in {city_name_code} is {temperature} degrees farenheit\")\n",
    "    else:\n",
    "        print(f\"Failed to get the weather for {city_name_code}\")"
   ]
  }
 ],
 "metadata": {
  "kernelspec": {
   "display_name": "PythonData",
   "language": "python",
   "name": "pythondata"
  },
  "language_info": {
   "codemirror_mode": {
    "name": "ipython",
    "version": 3
   },
   "file_extension": ".py",
   "mimetype": "text/x-python",
   "name": "python",
   "nbconvert_exporter": "python",
   "pygments_lexer": "ipython3",
   "version": "3.7.7"
  }
 },
 "nbformat": 4,
 "nbformat_minor": 4
}
